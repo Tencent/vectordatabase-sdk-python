{
 "cells": [
  {
   "cell_type": "markdown",
   "metadata": {
    "collapsed": false
   },
   "source": [
    "# Tencent VectorDB Python SDK"
   ]
  },
  {
   "cell_type": "markdown",
   "metadata": {
    "collapsed": false
   },
   "source": [
    "## 打包并本地安装"
   ]
  },
  {
   "cell_type": "code",
   "execution_count": null,
   "metadata": {},
   "outputs": [],
   "source": [
    "%pip install wheel\n",
    "!python3 setup.py sdist bdist_wheel || true\n",
    "!pip3 install dist/tcvectordb-0.0.2-py3-none-any.whl"
   ]
  },
  {
   "cell_type": "markdown",
   "metadata": {},
   "source": []
  },
  {
   "cell_type": "markdown",
   "metadata": {
    "collapsed": false
   },
   "source": [
    "## 连接VectorDB"
   ]
  },
  {
   "cell_type": "code",
   "execution_count": null,
   "metadata": {},
   "outputs": [],
   "source": [
    "import tcvectordb\n",
    "cli = tcvectordb.VectorDB(url='', username='root',\n",
    "                        key='', timeout=5)"
   ]
  },
  {
   "cell_type": "markdown",
   "metadata": {
    "collapsed": false
   },
   "source": [
    "## Manage Databases"
   ]
  },
  {
   "cell_type": "code",
   "execution_count": null,
   "metadata": {},
   "outputs": [],
   "source": [
    "# Create database\n",
    "cli.create_database('db001')\n",
    "# List databases\n",
    "cli.list_databases()"
   ]
  },
  {
   "cell_type": "code",
   "execution_count": null,
   "metadata": {},
   "outputs": [],
   "source": [
    "# Drop database\n",
    "cli.drop_database('db001')\n",
    "# List databases\n",
    "cli.list_databases()"
   ]
  },
  {
   "cell_type": "markdown",
   "metadata": {
    "collapsed": false
   },
   "source": [
    "## Manage Collection"
   ]
  },
  {
   "cell_type": "code",
   "execution_count": null,
   "metadata": {
    "collapsed": false
   },
   "outputs": [],
   "source": [
    "from tcvectordb.model.collection import IndexType\n",
    "from tcvectordb.model.collection import MetricType\n",
    "from tcvectordb.model.enum import FieldType\n",
    "from tcvectordb.model.index import Index, VectorIndex, ScalarIndex, HNSWParams\n",
    "\n",
    "\n",
    "index = Index().add(ScalarIndex('id', FieldType.String, IndexType.PRIMARY_KEY))\n",
    "index.add(VectorIndex('vector', 3, IndexType.HNSW,\n",
    "            MetricType.L2, HNSWParams(64, 8)))\n",
    "index.add(ScalarIndex('other', FieldType.String, IndexType.FILTER))\n",
    "\n",
    "db = cli.create_database('db001')\n",
    "db.create_collection(\n",
    "    name='col0',\n",
    "    shard=3,\n",
    "    replicas=2,\n",
    "    description='test collection0',\n",
    "    index=index,\n",
    "    timeout=20\n",
    ")\n",
    "db.create_collection(\n",
    "    name='col1',\n",
    "    shard=3,\n",
    "    replicas=2,\n",
    "    description='test collection1',\n",
    "    index=index,\n",
    "    timeout=20\n",
    ")\n",
    "col_list = db.list_collections()\n",
    "for elem in col_list:\n",
    "    print(vars(elem))\n",
    "\n",
    "col = db.describe_collection('col1')\n",
    "vars(col)\n",
    "print(col.database_name, col.collection_name, col.shard, col.replicas, col.description, col.create_time)\n",
    "print(col.index)\n",
    "\n",
    "db.drop_collection('col1')\n",
    "db.describe_collection('col1')"
   ]
  },
  {
   "cell_type": "markdown",
   "metadata": {
    "collapsed": false
   },
   "source": [
    "## Manage Document"
   ]
  },
  {
   "cell_type": "code",
   "execution_count": null,
   "metadata": {
    "collapsed": false
   },
   "outputs": [],
   "source": [
    "from tcvectordb.model.document import Filter\n",
    "\n",
    "def filter():\n",
    "    filter = Filter('age > 18').And(\n",
    "        'gender = \"male\"').Or(\n",
    "        'city = \"Beijing\"').AndNot(\n",
    "        'age > 30').OrNot('city = \"Shanghai\"').And(Filter.In('id', ['123','456']))\n",
    "    \n",
    "    print(filter.cond)\n",
    "\n",
    "filter()"
   ]
  },
  {
   "cell_type": "code",
   "execution_count": null,
   "metadata": {
    "collapsed": false
   },
   "outputs": [],
   "source": [
    "from tcvectordb.model.document import Document\n",
    "\n",
    "col = db.database('db001').collection('col0')\n",
    "col.upsert(\n",
    "    documents=[\n",
    "        Document(id='0001', vector=[0.2123, 0.23, 0.213], other='aa'),\n",
    "        Document(id='0002', vector=[0.5123, 0.53, 0.513], other='bb'),\n",
    "        Document(id='0003', vector=[0.9123, 0.93, 0.913], other='aa'),\n",
    "    ],\n",
    "    build_index=False,\n",
    ")"
   ]
  },
  {
   "cell_type": "code",
   "execution_count": null,
   "metadata": {
    "collapsed": false
   },
   "outputs": [],
   "source": [
    "from tcvectordb.model.document import Document\n",
    "col = db.database('db001').collection('col0')\n",
    "\n",
    "res = col.query(primary=['0001', '0002'], retrieve_vector=True)\n",
    "for elem in res:\n",
    "    print(vars(elem))"
   ]
  },
  {
   "cell_type": "code",
   "execution_count": null,
   "metadata": {
    "collapsed": false
   },
   "outputs": [],
   "source": [
    "from tcvectordb.model.document import Filter\n",
    "col = db.database('db001').collection('col0')\n",
    "filter = Filter('other=\"aa\"')\n",
    "vecs = col.search(vector={'vectors': [[0.3123, 0.43, 0.213]]},\n",
    "    filter=filter, retrieve_vector=False, limit=2)\n",
    "for arr in vecs:\n",
    "    print(vars(arr))\n",
    "\n",
    "col.delete(['0001'])"
   ]
  },
  {
   "cell_type": "markdown",
   "metadata": {
    "collapsed": false
   },
   "source": [
    "## 环境清除"
   ]
  },
  {
   "cell_type": "code",
   "execution_count": null,
   "metadata": {},
   "outputs": [],
   "source": [
    "db.drop_database('db001')\n",
    "!pip3 uninstall -y tcvectordb"
   ]
  }
 ],
 "metadata": {
  "kernelspec": {
   "display_name": "Python 3 (ipykernel)",
   "language": "python",
   "name": "python3"
  },
  "language_info": {
   "codemirror_mode": {
    "name": "ipython",
    "version": 3
   },
   "file_extension": ".py",
   "mimetype": "text/x-python",
   "name": "python",
   "nbconvert_exporter": "python",
   "pygments_lexer": "ipython3",
   "version": "3.8.6"
  }
 },
 "nbformat": 4,
 "nbformat_minor": 4
}
